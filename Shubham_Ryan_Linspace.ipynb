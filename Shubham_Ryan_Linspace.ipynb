{
  "nbformat": 4,
  "nbformat_minor": 0,
  "metadata": {
    "colab": {
      "name": "Shubham Ryan - Linspace.ipynb",
      "provenance": [],
      "include_colab_link": true
    },
    "kernelspec": {
      "name": "python3",
      "display_name": "Python 3"
    }
  },
  "cells": [
    {
      "cell_type": "markdown",
      "metadata": {
        "id": "view-in-github",
        "colab_type": "text"
      },
      "source": [
        "<a href=\"https://colab.research.google.com/github/shubham8539/demo/blob/master/Shubham_Ryan_Linspace.ipynb\" target=\"_parent\"><img src=\"https://colab.research.google.com/assets/colab-badge.svg\" alt=\"Open In Colab\"/></a>"
      ]
    },
    {
      "cell_type": "code",
      "metadata": {
        "id": "8Pai-2Ljj_hX",
        "colab_type": "code",
        "colab": {}
      },
      "source": [
        ""
      ],
      "execution_count": 0,
      "outputs": []
    },
    {
      "cell_type": "code",
      "metadata": {
        "id": "XH8IRp4hhMC_",
        "colab_type": "code",
        "outputId": "5a011ded-4e35-4637-a02f-dc578a6cc782",
        "colab": {
          "base_uri": "https://localhost:8080/",
          "height": 110
        }
      },
      "source": [
        "\n",
        "a=int(input(\"enter the lower value\"))\n",
        "b=int(input(\"enter the upper value\"))\n",
        "n=int(input(\"no. of elements between them\"))\n",
        "steps=float(b-a)/n\n",
        "\n",
        "list=[a]\n",
        "\n",
        "\n",
        "for i in range(0,n-1):\n",
        "  list.append(list[i]+steps)\n",
        "print(list)"
      ],
      "execution_count": 0,
      "outputs": [
        {
          "output_type": "stream",
          "text": [
            "enter the lower value2\n",
            "enter the upper value9\n",
            "no. of elements between them23\n",
            "[2, 2.3043478260869565, 2.608695652173913, 2.9130434782608696, 3.217391304347826, 3.5217391304347827, 3.8260869565217392, 4.130434782608695, 4.434782608695652, 4.739130434782609, 5.043478260869566, 5.347826086956523, 5.65217391304348, 5.956521739130437, 6.260869565217394, 6.565217391304351, 6.869565217391308, 7.173913043478265, 7.478260869565222, 7.782608695652179, 8.086956521739136, 8.391304347826093, 8.69565217391305]\n"
          ],
          "name": "stdout"
        }
      ]
    },
    {
      "cell_type": "markdown",
      "metadata": {
        "id": "b1TJwtW7hUHb",
        "colab_type": "text"
      },
      "source": [
        ""
      ]
    },
    {
      "cell_type": "code",
      "metadata": {
        "id": "jhTYpfFQhPUQ",
        "colab_type": "code",
        "colab": {}
      },
      "source": [
        ""
      ],
      "execution_count": 0,
      "outputs": []
    }
  ]
}